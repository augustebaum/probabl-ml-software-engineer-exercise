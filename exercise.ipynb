{
 "cells": [
  {
   "cell_type": "code",
   "execution_count": 1,
   "id": "80780baf",
   "metadata": {},
   "outputs": [],
   "source": [
    "import sklearn.datasets\n",
    "import sklearn.ensemble\n",
    "import sklearn.inspection\n",
    "import sklearn.model_selection\n",
    "import matplotlib.pyplot as plt\n",
    "import typing"
   ]
  },
  {
   "cell_type": "markdown",
   "id": "a4a6f583",
   "metadata": {},
   "source": [
    "Set a seed for reproducibility"
   ]
  },
  {
   "cell_type": "code",
   "execution_count": 2,
   "id": "1a00001e",
   "metadata": {},
   "outputs": [],
   "source": [
    "seed = 42"
   ]
  },
  {
   "cell_type": "markdown",
   "id": "71493318",
   "metadata": {},
   "source": [
    "Get iris data"
   ]
  },
  {
   "cell_type": "code",
   "execution_count": 3,
   "id": "75f89b8d",
   "metadata": {},
   "outputs": [],
   "source": [
    "dataset = sklearn.datasets.load_iris()"
   ]
  },
  {
   "cell_type": "markdown",
   "id": "8d788317",
   "metadata": {},
   "source": [
    "Evaluate our classifier on the train and test data"
   ]
  },
  {
   "cell_type": "code",
   "execution_count": 8,
   "id": "a5108cfb",
   "metadata": {
    "lines_to_next_cell": 1
   },
   "outputs": [],
   "source": [
    "def estimate_significance_of_permutation_test(classifier):\n",
    "    \"\"\"\n",
    "    Compute permutation test score along with p-value.\n",
    "    \n",
    "    Source: <https://scikit-learn.org/stable/modules/generated/sklearn.model_selection.permutation_test_score.html#sklearn-model-selection-permutation-test-score>\n",
    "    \"\"\"\n",
    "    score, permutation_scores, pvalue = sklearn.model_selection.permutation_test_score(\n",
    "        classifier, dataset.data, dataset.target, random_state=seed\n",
    "    )\n",
    "\n",
    "    print(f\"Test results for {classifier}\")\n",
    "    print(f\"Original Score: {score:.3f}\")\n",
    "    print(\n",
    "        f\"Permutation Scores: {permutation_scores.mean():.3f} +/- \"\n",
    "        f\"{permutation_scores.std():.3f}\"\n",
    "    )\n",
    "    print(f\"P-value: {pvalue:.3f}\")#"
   ]
  },
  {
   "cell_type": "code",
   "execution_count": 9,
   "id": "e81c4535",
   "metadata": {},
   "outputs": [
    {
     "name": "stdout",
     "output_type": "stream",
     "text": [
      "Test results for DummyClassifier(random_state=42)\n",
      "Original Score: 0.333\n",
      "Permutation Scores: 0.333 +/- 0.000\n",
      "P-value: 1.000\n"
     ]
    }
   ],
   "source": [
    "estimate_significance_of_permutation_test(sklearn.dummy.DummyClassifier(random_state=seed))"
   ]
  },
  {
   "cell_type": "code",
   "execution_count": 7,
   "id": "506b9d4d",
   "metadata": {},
   "outputs": [
    {
     "name": "stdout",
     "output_type": "stream",
     "text": [
      "Test results for HistGradientBoostingClassifier(random_state=42)\n",
      "Original Score: 0.947\n",
      "Permutation Scores: 0.332 +/- 0.046\n",
      "P-value: 0.010\n"
     ]
    }
   ],
   "source": [
    "classifier = sklearn.ensemble.HistGradientBoostingClassifier(random_state=seed)\n",
    "estimate_significance_of_permutation_test(classifier)"
   ]
  },
  {
   "cell_type": "markdown",
   "id": "7c8da5d9-7574-4109-9989-e1c65ff13c32",
   "metadata": {},
   "source": [
    "> What can you conclude about:\n",
    "> - the existence of a significant statistical association between the iris type and the input features (petal and sepal width and length)?\n",
    "> - the ability of each kind of estimator to assess or not such a statistical association between features and target variable?\n",
    "\n",
    "Since there are 3 output classes (virginica, setosa and versicolor), a random classifier would on average get the right prediction one third of the time. Accordingly, we see that the `DummyClassifier` is correct about 33% of the time, and that the permutation score is also about 33%. Since the `DummyClassifier` doesn't perform better than a random classifier, we can conclude that even if there were an association between the inputs and the output, it would not detect it.\n",
    "\n",
    "By contrast, based on the small $p$-value, it seems that the `HistGradientBoostingClassifier` model has detected a relationship between the input features and the output. Indeed, the classifier performs much better on the true data than on permuted data (95% accuracy against 33%). Hence it seems that this kind of classifier has a higher ability than `DummyClassifier` to uncover statistical relationships.\n",
    "Finally, according to the `scikit-learn` library, the interpretation of this $p$-value is:\n",
    "> The p-value [...] approximates the probability that the score would be obtained by chance.\n",
    "\n",
    "By this interpretation, it is unlikely that the input features and output are uncorrelated."
   ]
  }
 ],
 "metadata": {
  "jupytext": {
   "cell_metadata_filter": "-all",
   "main_language": "python",
   "notebook_metadata_filter": "-all"
  },
  "kernelspec": {
   "display_name": "Python 3 (ipykernel)",
   "language": "python",
   "name": "python3"
  },
  "language_info": {
   "codemirror_mode": {
    "name": "ipython",
    "version": 3
   },
   "file_extension": ".py",
   "mimetype": "text/x-python",
   "name": "python",
   "nbconvert_exporter": "python",
   "pygments_lexer": "ipython3",
   "version": "3.11.8"
  }
 },
 "nbformat": 4,
 "nbformat_minor": 5
}
